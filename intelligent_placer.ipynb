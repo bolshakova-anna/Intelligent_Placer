{
 "cells": [
  {
   "attachments": {},
   "cell_type": "markdown",
   "metadata": {},
   "source": [
    "## Ноутбук содержит репрезентативные примеры работы алгоритма с оценками качества его работы и их визуализацией."
   ]
  },
  {
   "attachments": {},
   "cell_type": "markdown",
   "metadata": {},
   "source": [
    "#### Фотографии, на которых будет проверяться работа алгоритма, находятся в директории:\n",
    "\n",
    "https://github.com/bolshakova-anna/Intelligent_Placer/tree/main/data\n"
   ]
  },
  {
   "attachments": {},
   "cell_type": "markdown",
   "metadata": {},
   "source": [
    "#### Разметка ожидаемых результатов приведена ниже:\n"
   ]
  },
  {
   "cell_type": "code",
   "execution_count": 1,
   "metadata": {},
   "outputs": [
    {
     "data": {
      "text/html": [
       "<div>\n",
       "<style scoped>\n",
       "    .dataframe tbody tr th:only-of-type {\n",
       "        vertical-align: middle;\n",
       "    }\n",
       "\n",
       "    .dataframe tbody tr th {\n",
       "        vertical-align: top;\n",
       "    }\n",
       "\n",
       "    .dataframe thead th {\n",
       "        text-align: right;\n",
       "    }\n",
       "</style>\n",
       "<table border=\"1\" class=\"dataframe\">\n",
       "  <thead>\n",
       "    <tr style=\"text-align: right;\">\n",
       "      <th></th>\n",
       "      <th>label</th>\n",
       "    </tr>\n",
       "    <tr>\n",
       "      <th>input path</th>\n",
       "      <th></th>\n",
       "    </tr>\n",
       "  </thead>\n",
       "  <tbody>\n",
       "    <tr>\n",
       "      <th>github.com/bolshakova-anna/Intelligent_Placer/tree/develop/data/examples/1/in.jpeg</th>\n",
       "      <td>true</td>\n",
       "    </tr>\n",
       "    <tr>\n",
       "      <th>github.com/bolshakova-anna/Intelligent_Placer/tree/develop/data/examples/2/in.jpeg</th>\n",
       "      <td>false</td>\n",
       "    </tr>\n",
       "    <tr>\n",
       "      <th>github.com/bolshakova-anna/Intelligent_Placer/tree/develop/data/examples/3/in.jpeg</th>\n",
       "      <td>true</td>\n",
       "    </tr>\n",
       "    <tr>\n",
       "      <th>github.com/bolshakova-anna/Intelligent_Placer/tree/develop/data/examples/4/in.jpeg</th>\n",
       "      <td>false</td>\n",
       "    </tr>\n",
       "    <tr>\n",
       "      <th>github.com/bolshakova-anna/Intelligent_Placer/tree/develop/data/examples/5/in.jpeg</th>\n",
       "      <td>false</td>\n",
       "    </tr>\n",
       "    <tr>\n",
       "      <th>github.com/bolshakova-anna/Intelligent_Placer/tree/develop/data/examples/6/in.jpeg</th>\n",
       "      <td>true</td>\n",
       "    </tr>\n",
       "    <tr>\n",
       "      <th>github.com/bolshakova-anna/Intelligent_Placer/tree/develop/data/examples/7/in.jpeg</th>\n",
       "      <td>true</td>\n",
       "    </tr>\n",
       "    <tr>\n",
       "      <th>github.com/bolshakova-anna/Intelligent_Placer/tree/develop/data/examples/8/in.jpeg</th>\n",
       "      <td>false</td>\n",
       "    </tr>\n",
       "    <tr>\n",
       "      <th>github.com/bolshakova-anna/Intelligent_Placer/tree/develop/data/examples/9/in.jpeg</th>\n",
       "      <td>false</td>\n",
       "    </tr>\n",
       "    <tr>\n",
       "      <th>github.com/bolshakova-anna/Intelligent_Placer/tree/develop/data/examples/10/in.jpeg</th>\n",
       "      <td>true</td>\n",
       "    </tr>\n",
       "  </tbody>\n",
       "</table>\n",
       "</div>"
      ],
      "text/plain": [
       "                                                     label\n",
       "input path                                                \n",
       "github.com/bolshakova-anna/Intelligent_Placer/t...    true\n",
       "github.com/bolshakova-anna/Intelligent_Placer/t...   false\n",
       "github.com/bolshakova-anna/Intelligent_Placer/t...    true\n",
       "github.com/bolshakova-anna/Intelligent_Placer/t...   false\n",
       "github.com/bolshakova-anna/Intelligent_Placer/t...   false\n",
       "github.com/bolshakova-anna/Intelligent_Placer/t...    true\n",
       "github.com/bolshakova-anna/Intelligent_Placer/t...    true\n",
       "github.com/bolshakova-anna/Intelligent_Placer/t...   false\n",
       "github.com/bolshakova-anna/Intelligent_Placer/t...   false\n",
       "github.com/bolshakova-anna/Intelligent_Placer/t...    true"
      ]
     },
     "metadata": {},
     "output_type": "display_data"
    }
   ],
   "source": [
    "import pandas as pd\n",
    "from IPython.display import display\n",
    "\n",
    "url ='https://raw.githubusercontent.com/bolshakova-anna/Intelligent_Placer/main/data/label.csv'\n",
    "df = pd.read_csv(url, index_col=0)\n",
    "display(df)"
   ]
  },
  {
   "attachments": {},
   "cell_type": "markdown",
   "metadata": {},
   "source": [
    "Для последующего анализа работы алгоритма определим вспомогательную функцию:"
   ]
  },
  {
   "cell_type": "code",
   "execution_count": 1,
   "metadata": {},
   "outputs": [],
   "source": [
    "import os\n",
    "import time\n",
    "from intelligent_placer_lib import check_image\n",
    "from matplotlib import pyplot as plt\n",
    "\n",
    "def sample_inf(n:int):\n",
    "    image_file = os.path.join(\"data\", \"examples\", f'{n}', 'in.jpg')\n",
    "    start_time = time.time()\n",
    "    res, img = check_image(image_file)\n",
    "    print(f\"Результат:{res}\")\n",
    "    print(f\"Время выполнения: {time.time() - start_time} сек.\")\n",
    "    \n",
    "\n"
   ]
  },
  {
   "attachments": {},
   "cell_type": "markdown",
   "metadata": {},
   "source": [
    "### Пример 1\n",
    "\n",
    "Ожидаемый результат : True\n",
    "\n",
    "Полученный результат: True\n",
    "\n",
    "пояснение к результату: При каждом успешном размещении выводится график вида: **|объект|незанятое пространство|размещение|** для иллюстрации работы алгоритма.\n"
   ]
  },
  {
   "cell_type": "code",
   "execution_count": 2,
   "metadata": {},
   "outputs": [
    {
     "data": {
      "text/plain": [
       "<Figure size 432x288 with 0 Axes>"
      ]
     },
     "metadata": {},
     "output_type": "display_data"
    },
    {
     "data": {
      "image/png": "[encoded data removed]",
      "text/plain": [
       "<Figure size 432x288 with 3 Axes>"
      ]
     },
     "metadata": {
      "needs_background": "light"
     },
     "output_type": "display_data"
    },
    {
     "name": "stdout",
     "output_type": "stream",
     "text": [
      "Результат:True\n",
      "Время выполнения: 4.254831552505493 сек.\n"
     ]
    }
   ],
   "source": [
    "sample_inf(1)"
   ]
  },
  {
   "attachments": {},
   "cell_type": "markdown",
   "metadata": {},
   "source": [
    "### Пример 2\n",
    "\n",
    "Ожидаемый результат : False\n",
    "\n",
    "Полученный результат: False\n",
    "\n",
    "пояснение к результату: площадь найденных объектов больше площадь многоугольника. Размещение заведомо невозможно.\n"
   ]
  },
  {
   "cell_type": "code",
   "execution_count": 3,
   "metadata": {},
   "outputs": [
    {
     "name": "stdout",
     "output_type": "stream",
     "text": [
      "Результат:False\n",
      "Время выполнения: 3.763148546218872 сек.\n"
     ]
    }
   ],
   "source": [
    "sample_inf(2)"
   ]
  },
  {
   "attachments": {},
   "cell_type": "markdown",
   "metadata": {},
   "source": [
    "### Пример 3\n",
    "\n",
    "Ожидаемый результат : True\n",
    "\n",
    "Полученный результат: False\n",
    "\n",
    "пояснение к результату: не получилось расположить предметы, которые в теории можно положить (см. out.jpg в соотв. директории)\n"
   ]
  },
  {
   "cell_type": "code",
   "execution_count": 7,
   "metadata": {},
   "outputs": [
    {
     "name": "stdout",
     "output_type": "stream",
     "text": [
      "Результат:False\n",
      "Время выполнения: 441.70549964904785 сек.\n"
     ]
    }
   ],
   "source": [
    "sample_inf(3)"
   ]
  },
  {
   "attachments": {},
   "cell_type": "markdown",
   "metadata": {},
   "source": [
    "### Пример 4\n",
    "\n",
    "Ожидаемый результат : False\n",
    "\n",
    "Полученный результат: False\n",
    "\n",
    "\n"
   ]
  },
  {
   "cell_type": "code",
   "execution_count": 6,
   "metadata": {},
   "outputs": [
    {
     "name": "stdout",
     "output_type": "stream",
     "text": [
      "Результат:False\n",
      "Время выполнения: 517.8460960388184 сек.\n"
     ]
    }
   ],
   "source": [
    "sample_inf(4)"
   ]
  },
  {
   "attachments": {},
   "cell_type": "markdown",
   "metadata": {},
   "source": [
    "### Пример 5\n",
    "\n",
    "Ожидаемый результат : False\n",
    "\n",
    "Полученный результат: False\n",
    "\n",
    "пояснение к результату: сработало ограничение по площади\n",
    "\n"
   ]
  },
  {
   "cell_type": "code",
   "execution_count": 9,
   "metadata": {},
   "outputs": [
    {
     "name": "stdout",
     "output_type": "stream",
     "text": [
      "Результат:False\n",
      "Время выполнения: 4.715327262878418 сек.\n"
     ]
    }
   ],
   "source": [
    "sample_inf(5)"
   ]
  },
  {
   "attachments": {},
   "cell_type": "markdown",
   "metadata": {},
   "source": [
    "### Пример 6\n",
    "\n",
    "Ожидаемый результат : True\n",
    "\n",
    "Полученный результат: True\n"
   ]
  },
  {
   "cell_type": "code",
   "execution_count": null,
   "metadata": {},
   "outputs": [],
   "source": [
    "sample_inf(6)"
   ]
  },
  {
   "attachments": {},
   "cell_type": "markdown",
   "metadata": {},
   "source": [
    "### Пример 7\n",
    "\n",
    "Ожидаемый результат : True\n",
    "\n",
    "Полученный результат: True\n",
    "\n",
    "\n"
   ]
  },
  {
   "cell_type": "code",
   "execution_count": 14,
   "metadata": {},
   "outputs": [
    {
     "data": {
      "text/plain": [
       "<Figure size 432x288 with 0 Axes>"
      ]
     },
     "metadata": {},
     "output_type": "display_data"
    },
    {
     "data": {
      "image/png": "[encoded data removed]",
      "text/plain": [
       "<Figure size 432x288 with 3 Axes>"
      ]
     },
     "metadata": {
      "needs_background": "light"
     },
     "output_type": "display_data"
    },
    {
     "data": {
      "text/plain": [
       "<Figure size 432x288 with 0 Axes>"
      ]
     },
     "metadata": {},
     "output_type": "display_data"
    },
    {
     "data": {
      "image/png": "[encoded data removed]",
      "text/plain": [
       "<Figure size 432x288 with 3 Axes>"
      ]
     },
     "metadata": {
      "needs_background": "light"
     },
     "output_type": "display_data"
    },
    {
     "name": "stdout",
     "output_type": "stream",
     "text": [
      "Результат:True\n",
      "Время выполнения: 15.597378969192505 сек.\n"
     ]
    }
   ],
   "source": [
    "sample_inf(7)"
   ]
  },
  {
   "attachments": {},
   "cell_type": "markdown",
   "metadata": {},
   "source": [
    "### Пример 8\n",
    "\n",
    "Ожидаемый результат : False\n",
    "\n",
    "Полученный результат: False\n",
    "\n"
   ]
  },
  {
   "cell_type": "code",
   "execution_count": 2,
   "metadata": {},
   "outputs": [
    {
     "name": "stdout",
     "output_type": "stream",
     "text": [
      "Результат:False\n",
      "Время выполнения: 4.5840232372283936 сек.\n"
     ]
    }
   ],
   "source": [
    "sample_inf(8)"
   ]
  },
  {
   "attachments": {},
   "cell_type": "markdown",
   "metadata": {},
   "source": [
    "### Пример 9\n",
    "Ожидаемый результат : False\n",
    "\n",
    "Полученный результат: False\n",
    "\n",
    "пояснение: нет многоугольника"
   ]
  },
  {
   "cell_type": "code",
   "execution_count": 8,
   "metadata": {},
   "outputs": [
    {
     "name": "stdout",
     "output_type": "stream",
     "text": [
      "Результат:False\n",
      "Время выполнения: 5.265567302703857 сек.\n"
     ]
    }
   ],
   "source": [
    "sample_inf(9)"
   ]
  },
  {
   "attachments": {},
   "cell_type": "markdown",
   "metadata": {},
   "source": [
    "### Пример 10\n",
    "Ожидаемый результат : True\n",
    "\n",
    "Полученный результат: False\n",
    "\n",
    "пояснение: тут все плохо - какой то мусор отпределился как предмет , два близкий предмета - как один:("
   ]
  },
  {
   "cell_type": "code",
   "execution_count": 15,
   "metadata": {},
   "outputs": [
    {
     "data": {
      "text/plain": [
       "<Figure size 432x288 with 0 Axes>"
      ]
     },
     "metadata": {},
     "output_type": "display_data"
    },
    {
     "data": {
      "image/png": "[encoded data removed]",
      "text/plain": [
       "<Figure size 432x288 with 3 Axes>"
      ]
     },
     "metadata": {
      "needs_background": "light"
     },
     "output_type": "display_data"
    },
    {
     "data": {
      "text/plain": [
       "<Figure size 432x288 with 0 Axes>"
      ]
     },
     "metadata": {},
     "output_type": "display_data"
    },
    {
     "data": {
      "image/png": "[encoded data removed]",
      "text/plain": [
       "<Figure size 432x288 with 3 Axes>"
      ]
     },
     "metadata": {
      "needs_background": "light"
     },
     "output_type": "display_data"
    },
    {
     "name": "stdout",
     "output_type": "stream",
     "text": [
      "Результат:False\n",
      "Время выполнения: 61.33603072166443 сек.\n"
     ]
    }
   ],
   "source": [
    "sample_inf(10)"
   ]
  },
  {
   "attachments": {},
   "cell_type": "markdown",
   "metadata": {},
   "source": [
    "### Вывод:\n",
    "\n",
    "##### Проведено испытаний: 10 \n",
    "- Успешных срабатываний: 7\n",
    "- Неуспешный срабатываний: 3 \n",
    "\n",
    "Замечания по проделанной работе:\n",
    "- Что плохо:\n",
    "    - Данная реализация плейсера сильно зависит от числа изображений и удачном их изначальном повороте. \n",
    "    - В худшем случае, из-за полного перебора, даже с учетом предпроверок для избежания рассматривания заведомо неверных конфигураций размещения, и с учетом того, что были использованы (где возможно) внутренние операции по работе с массивами из пакета numpy, алгоритм долго работает.\n",
    "- Что хорошо:\n",
    "    - Работа с бинарными масками позволяет учитывать форму предмета и области настолько корректно, насколько корректно была найдена эта маска. В случае, если маска предмет имеет полости, в которые можно попробовать расположить другой предмет - этот случай будет рассмотрен.\n",
    "    - Таким образом, если размещение было найдено - оно точно возможно."
   ]
  }
 ],
 "metadata": {
  "kernelspec": {
   "display_name": "Python 3.9.7 ('base')",
   "language": "python",
   "name": "python3"
  },
  "language_info": {
   "codemirror_mode": {
    "name": "ipython",
    "version": 3
   },
   "file_extension": ".py",
   "mimetype": "text/x-python",
   "name": "python",
   "nbconvert_exporter": "python",
   "pygments_lexer": "ipython3",
   "version": "3.9.7"
  },
  "orig_nbformat": 4,
  "vscode": {
   "interpreter": {
    "hash": "f08154012ddadd8e950e6e9e035c7a7b32c136e7647e9b7c77e02eb723a8bedb"
   }
  }
 },
 "nbformat": 4,
 "nbformat_minor": 2
}
